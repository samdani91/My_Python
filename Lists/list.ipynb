{
 "cells": [
  {
   "cell_type": "code",
   "execution_count": 3,
   "id": "e14e6260",
   "metadata": {},
   "outputs": [
    {
     "name": "stdout",
     "output_type": "stream",
     "text": [
      "['banana', 'apple', 'cherry']\n",
      "Length: 3\n"
     ]
    }
   ],
   "source": [
    "fruits = [\"banana\",\"apple\",\"cherry\"]\n",
    "print(fruits)\n",
    "print(\"Length:\",len(fruits))"
   ]
  },
  {
   "cell_type": "code",
   "execution_count": 5,
   "id": "865c47a8",
   "metadata": {},
   "outputs": [
    {
     "name": "stdout",
     "output_type": "stream",
     "text": [
      "['abc', 34, True, 40, 'male']\n",
      "<class 'list'>\n"
     ]
    }
   ],
   "source": [
    "diff_types = [\"abc\",34,True,40,\"male\"]\n",
    "print(diff_types)\n",
    "print(type(diff_types))"
   ]
  },
  {
   "cell_type": "markdown",
   "id": "abaa911c",
   "metadata": {},
   "source": [
    "### It is also possible to use the list() constructor when creating a new list"
   ]
  },
  {
   "cell_type": "code",
   "execution_count": 64,
   "id": "436249fc",
   "metadata": {},
   "outputs": [
    {
     "name": "stdout",
     "output_type": "stream",
     "text": [
      "['apple', True, 30, 'banana', 'cherry', 'orange', 'kiwi', 'melon', 'mango', 1412]\n"
     ]
    }
   ],
   "source": [
    "newList = list((\"apple\",True,30,\"banana\", \"cherry\", \"orange\", \"kiwi\", \"melon\", \"mango\",1412))\n",
    "print(newList)"
   ]
  },
  {
   "cell_type": "code",
   "execution_count": 30,
   "id": "6722a9ae",
   "metadata": {},
   "outputs": [
    {
     "name": "stdout",
     "output_type": "stream",
     "text": [
      "1412\n"
     ]
    }
   ],
   "source": [
    "#print the last item\n",
    "print(newList[-1])"
   ]
  },
  {
   "cell_type": "markdown",
   "id": "e3847db3",
   "metadata": {},
   "source": [
    "### Range of Indexes"
   ]
  },
  {
   "cell_type": "code",
   "execution_count": 31,
   "id": "5720c5ee",
   "metadata": {},
   "outputs": [
    {
     "name": "stdout",
     "output_type": "stream",
     "text": [
      "[30, 'banana', 'cherry']\n",
      "['apple', True, 30, 'banana', 'cherry']\n",
      "['orange', 'kiwi', 'melon', 'mango', 1412]\n",
      "['apple', 'banana', 'kiwi', 1412]\n",
      "[True, 'banana', 'orange', 'melon', 1412]\n",
      "['kiwi', 'melon', 'mango']\n",
      "[1412, 'mango', 'melon', 'kiwi', 'orange', 'cherry', 'banana', 30, True, 'apple']\n"
     ]
    }
   ],
   "source": [
    "print(newList[2:5]) #index from 2 to 4\n",
    "print(newList[:5]) # first 5 elements\n",
    "print(newList[5:]) # from index 5 to last element\n",
    "print(newList[::3]) #increment index+=3\n",
    "print(newList[1:len(newList):2])# start:end:increment/decrement\n",
    "print(newList[-4:-1]) #from last 4th elemnt to second last element as -1 is exclusive\n",
    "print(newList[::-1]) #reverse a list"
   ]
  },
  {
   "cell_type": "markdown",
   "id": "4d17c4d9",
   "metadata": {},
   "source": [
    "### Change a Range of Item Values"
   ]
  },
  {
   "cell_type": "code",
   "execution_count": 32,
   "id": "f8317ad0",
   "metadata": {},
   "outputs": [
    {
     "name": "stdout",
     "output_type": "stream",
     "text": [
      "['apple', 'samdani', False, 'banana', 'cherry', 'orange', 'kiwi', 'melon', 'mango', 1412]\n"
     ]
    }
   ],
   "source": [
    "newList[1:3] = [\"samdani\",False]\n",
    "print(newList)"
   ]
  },
  {
   "cell_type": "markdown",
   "id": "d1f39fe5",
   "metadata": {},
   "source": [
    "##### If you insert more items than you replace, the new items will be inserted where you specified, and the remaining items will move accordingly."
   ]
  },
  {
   "cell_type": "code",
   "execution_count": 34,
   "id": "dcc9f50b",
   "metadata": {},
   "outputs": [
    {
     "name": "stdout",
     "output_type": "stream",
     "text": [
      "['apple', 'oni', 2083, 2083, False, 'banana', 'cherry', 'orange', 'kiwi', 'melon', 'mango', 1412]\n",
      "12\n"
     ]
    }
   ],
   "source": [
    "newList[1:2] = [\"oni\",2083]\n",
    "print(newList)\n",
    "print(len(newList))"
   ]
  },
  {
   "cell_type": "code",
   "execution_count": 35,
   "id": "1026e29a",
   "metadata": {},
   "outputs": [
    {
     "name": "stdout",
     "output_type": "stream",
     "text": [
      "['apple', 'samdani', 2083, False, 'banana', 'cherry', 'orange', 'kiwi', 'melon', 'mango', 1412]\n",
      "11\n"
     ]
    }
   ],
   "source": [
    "newList[1:3] = [\"samdani\"]\n",
    "print(newList)\n",
    "print(len(newList))"
   ]
  },
  {
   "cell_type": "code",
   "execution_count": 47,
   "id": "d9b3e496",
   "metadata": {},
   "outputs": [
    {
     "name": "stdout",
     "output_type": "stream",
     "text": [
      "['Learning python', 'apple', True, 30, 'banana', 'cherry', 'orange', 'kiwi', 'melon', 'mango', 1412]\n",
      "11\n"
     ]
    }
   ],
   "source": [
    "newList.insert(0,\"Learning python\")\n",
    "print(newList)\n",
    "print(len(newList))"
   ]
  },
  {
   "cell_type": "code",
   "execution_count": 48,
   "id": "21d2143e",
   "metadata": {},
   "outputs": [
    {
     "name": "stdout",
     "output_type": "stream",
     "text": [
      "['Learning python', 'apple', True, 30, 'banana', 'cherry', 'orange', 'kiwi', 'melon', 'mango', 1412, 'last item']\n",
      "12\n"
     ]
    }
   ],
   "source": [
    "newList.append(\"last item\")\n",
    "print(newList)\n",
    "print(len(newList))"
   ]
  },
  {
   "cell_type": "code",
   "execution_count": 49,
   "id": "73198797",
   "metadata": {},
   "outputs": [
    {
     "name": "stdout",
     "output_type": "stream",
     "text": [
      "['Learning python', 'apple', True, 30, 'banana', 'cherry', 'orange', 'kiwi', 'melon', 'mango', 1412, 'last item', 'extend', 'list']\n",
      "14\n"
     ]
    }
   ],
   "source": [
    "newList2 = [\"extend\",\"list\"]\n",
    "newList.extend(newList2)\n",
    "print(newList)\n",
    "print(len(newList))"
   ]
  },
  {
   "cell_type": "code",
   "execution_count": 51,
   "id": "b5791c4b",
   "metadata": {},
   "outputs": [
    {
     "name": "stdout",
     "output_type": "stream",
     "text": [
      "['extend', 'list', 'new', 'tuple']\n"
     ]
    }
   ],
   "source": [
    "newTuple = (\"new\",\"tuple\")\n",
    "newList2.extend(newTuple)\n",
    "print(newList2)"
   ]
  },
  {
   "cell_type": "code",
   "execution_count": 41,
   "id": "7dc59854",
   "metadata": {},
   "outputs": [
    {
     "name": "stdout",
     "output_type": "stream",
     "text": [
      "['Learning python', 'apple', 'samdani', 2083, False, 'banana', 'cherry', 'orange', 'kiwi', 'melon', 'mango', 1412, 'last item', 'extend', 'extend', 'list']\n"
     ]
    }
   ],
   "source": [
    "newList.remove(\"list\") #If there are more than one item with the specified value, the remove() method removes the first occurrence\n",
    "print(newList)"
   ]
  },
  {
   "cell_type": "code",
   "execution_count": null,
   "id": "74502614",
   "metadata": {},
   "outputs": [
    {
     "data": {
      "text/plain": [
       "'tuple'"
      ]
     },
     "execution_count": 42,
     "metadata": {},
     "output_type": "execute_result"
    }
   ],
   "source": [
    "newList2.pop() #remove the last item"
   ]
  },
  {
   "cell_type": "code",
   "execution_count": 43,
   "id": "a95d6d4b",
   "metadata": {},
   "outputs": [
    {
     "name": "stdout",
     "output_type": "stream",
     "text": [
      "['extend', 'new']\n"
     ]
    }
   ],
   "source": [
    "newList2.pop(1) #remove specifed index element\n",
    "print(newList2)"
   ]
  },
  {
   "cell_type": "code",
   "execution_count": 45,
   "id": "2e6d02e5",
   "metadata": {},
   "outputs": [
    {
     "name": "stdout",
     "output_type": "stream",
     "text": [
      "[]\n"
     ]
    }
   ],
   "source": [
    "newList2.clear()\n",
    "print(newList)"
   ]
  },
  {
   "cell_type": "markdown",
   "id": "6e0240f2",
   "metadata": {},
   "source": [
    "### LOOP through List"
   ]
  },
  {
   "cell_type": "code",
   "execution_count": null,
   "id": "6b45febe",
   "metadata": {},
   "outputs": [],
   "source": [
    "for item in newList:\n",
    "    print(item)"
   ]
  },
  {
   "cell_type": "code",
   "execution_count": 56,
   "id": "efcc29e8",
   "metadata": {},
   "outputs": [
    {
     "name": "stdout",
     "output_type": "stream",
     "text": [
      "Learning python\n",
      "apple\n",
      "True\n",
      "30\n",
      "banana\n",
      "cherry\n",
      "orange\n",
      "kiwi\n",
      "melon\n",
      "mango\n",
      "1412\n",
      "last item\n",
      "extend\n",
      "list\n"
     ]
    }
   ],
   "source": [
    "for i in range(len(newList)):\n",
    "    print(newList[i])"
   ]
  },
  {
   "cell_type": "code",
   "execution_count": null,
   "id": "8ad9347b",
   "metadata": {},
   "outputs": [],
   "source": [
    "[print(item) for item in newList]"
   ]
  },
  {
   "cell_type": "code",
   "execution_count": 65,
   "id": "6792be4a",
   "metadata": {},
   "outputs": [
    {
     "name": "stdout",
     "output_type": "stream",
     "text": [
      "['apple', True, 30, 'banana', 'cherry', 'orange', 'kiwi', 'melon', 'mango', 1412]\n",
      "['APPLE', 'BANANA', 'CHERRY', 'ORANGE', 'KIWI', 'MELON', 'MANGO']\n"
     ]
    }
   ],
   "source": [
    "print(newList)\n",
    "newList = [item.upper() for item in newList if isinstance(item,str)]\n",
    "print(newList)"
   ]
  },
  {
   "cell_type": "code",
   "execution_count": 66,
   "id": "fe4302b7",
   "metadata": {},
   "outputs": [
    {
     "name": "stdout",
     "output_type": "stream",
     "text": [
      "['APPLE', 'BANANA', 'CHERRY', 'KIWI', 'MANGO', 'MELON', 'ORANGE']\n"
     ]
    }
   ],
   "source": [
    "newList.sort()\n",
    "print(newList)"
   ]
  },
  {
   "cell_type": "code",
   "execution_count": 67,
   "id": "9c2dffda",
   "metadata": {},
   "outputs": [
    {
     "name": "stdout",
     "output_type": "stream",
     "text": [
      "['ORANGE', 'MELON', 'MANGO', 'KIWI', 'CHERRY', 'BANANA', 'APPLE']\n"
     ]
    }
   ],
   "source": [
    "newList.sort(reverse=True)\n",
    "print(newList)"
   ]
  },
  {
   "cell_type": "code",
   "execution_count": null,
   "id": "2ef671dc",
   "metadata": {},
   "outputs": [
    {
     "name": "stdout",
     "output_type": "stream",
     "text": [
      "['Kiwi', 'Orange', 'banana', 'cherry']\n"
     ]
    }
   ],
   "source": [
    "thislist = [\"banana\", \"Orange\", \"Kiwi\", \"cherry\"]\n",
    "thislist.sort() #case sensitive\n",
    "print(thislist)"
   ]
  },
  {
   "cell_type": "code",
   "execution_count": 69,
   "id": "256929a3",
   "metadata": {},
   "outputs": [
    {
     "name": "stdout",
     "output_type": "stream",
     "text": [
      "['banana', 'cherry', 'Kiwi', 'Orange']\n"
     ]
    }
   ],
   "source": [
    "thislist = [\"banana\", \"Orange\", \"Kiwi\", \"cherry\"]\n",
    "thislist.sort(key=str.lower) #case insensitive\n",
    "print(thislist)"
   ]
  },
  {
   "cell_type": "code",
   "execution_count": 73,
   "id": "84a8bc02",
   "metadata": {},
   "outputs": [
    {
     "name": "stdout",
     "output_type": "stream",
     "text": [
      "['banana', 'cherry', 'Kiwi', 'Orange']\n",
      "['Orange', 'Kiwi', 'cherry', 'banana']\n"
     ]
    }
   ],
   "source": [
    "print(thislist)\n",
    "thislist.reverse()\n",
    "print(thislist)"
   ]
  },
  {
   "cell_type": "code",
   "execution_count": null,
   "id": "47121a49",
   "metadata": {},
   "outputs": [
    {
     "name": "stdout",
     "output_type": "stream",
     "text": [
      "['Orange', 'Kiwi', 'cherry', 'banana']\n"
     ]
    }
   ],
   "source": [
    "copyList = list(thislist)\n",
    "#copyList = thislist.copy()\n",
    "#copyList = thislist[:]\n",
    "print(copyList)"
   ]
  }
 ],
 "metadata": {
  "kernelspec": {
   "display_name": "venv",
   "language": "python",
   "name": "python3"
  },
  "language_info": {
   "codemirror_mode": {
    "name": "ipython",
    "version": 3
   },
   "file_extension": ".py",
   "mimetype": "text/x-python",
   "name": "python",
   "nbconvert_exporter": "python",
   "pygments_lexer": "ipython3",
   "version": "3.12.3"
  }
 },
 "nbformat": 4,
 "nbformat_minor": 5
}
